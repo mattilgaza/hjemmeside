{
 "cells": [
  {
   "cell_type": "code",
   "execution_count": null,
   "id": "d2c664f8",
   "metadata": {},
   "outputs": [],
   "source": [
    "import qrcode\n",
    "\n",
    "# img = qrcode.make('https://mattilgaza.github.io/hjemmeside/bilder.html')\n",
    "# type(img)  # qrcode.image.pil.PilImage\n",
    "# img.save(\"./../../assets/statics/QR_code/QR_mattilgaza.png\")"
   ]
  }
 ],
 "metadata": {
  "kernelspec": {
   "display_name": "venv",
   "language": "python",
   "name": "python3"
  },
  "language_info": {
   "codemirror_mode": {
    "name": "ipython",
    "version": 3
   },
   "file_extension": ".py",
   "mimetype": "text/x-python",
   "name": "python",
   "nbconvert_exporter": "python",
   "pygments_lexer": "ipython3",
   "version": "3.11.5"
  }
 },
 "nbformat": 4,
 "nbformat_minor": 5
}
